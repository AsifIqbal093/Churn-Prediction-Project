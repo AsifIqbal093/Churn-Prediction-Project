{
 "cells": [
  {
   "cell_type": "markdown",
   "metadata": {},
   "source": [
    "### Importing Libraries"
   ]
  },
  {
   "cell_type": "code",
   "execution_count": 1,
   "metadata": {},
   "outputs": [],
   "source": [
    "import numpy as np\n",
    "import pandas as pd\n",
    "\n",
    "from sklearn.model_selection import train_test_split\n",
    "from sklearn.metrics import confusion_matrix, roc_auc_score, precision_recall_curve, precision_score, accuracy_score\n",
    "from sklearn.metrics import recall_score, classification_report, f1_score, roc_curve, auc\n",
    "\n",
    "\n",
    "import matplotlib.pyplot as plt\n",
    "import seaborn as sns\n",
    "\n",
    "sns.set()\n",
    "%matplotlib inline"
   ]
  },
  {
   "cell_type": "markdown",
   "metadata": {},
   "source": [
    "### Importing Data"
   ]
  },
  {
   "cell_type": "code",
   "execution_count": 2,
   "metadata": {},
   "outputs": [],
   "source": [
    "data = pd.read_csv('Project_ADS.csv')"
   ]
  },
  {
   "cell_type": "code",
   "execution_count": 3,
   "metadata": {},
   "outputs": [
    {
     "data": {
      "text/html": [
       "<div>\n",
       "<style scoped>\n",
       "    .dataframe tbody tr th:only-of-type {\n",
       "        vertical-align: middle;\n",
       "    }\n",
       "\n",
       "    .dataframe tbody tr th {\n",
       "        vertical-align: top;\n",
       "    }\n",
       "\n",
       "    .dataframe thead th {\n",
       "        text-align: right;\n",
       "    }\n",
       "</style>\n",
       "<table border=\"1\" class=\"dataframe\">\n",
       "  <thead>\n",
       "    <tr style=\"text-align: right;\">\n",
       "      <th></th>\n",
       "      <th>CUSTOMER_ID</th>\n",
       "      <th>HISTORIC_VISITS</th>\n",
       "      <th>HISTORIC_SALES</th>\n",
       "      <th>STD_SALESAMOUNT</th>\n",
       "      <th>VARIATION_SALESAMOUNT</th>\n",
       "      <th>MAX_SALESAMOUNT</th>\n",
       "      <th>MIN_SALESAMOUNT</th>\n",
       "      <th>W1_HISTORIC_VISITS</th>\n",
       "      <th>W2_HISTORIC_VISITS</th>\n",
       "      <th>W3_HISTORIC_VISITS</th>\n",
       "      <th>...</th>\n",
       "      <th>W4_MIN_SALESAMOUNT</th>\n",
       "      <th>W5_MIN_SALESAMOUNT</th>\n",
       "      <th>W1_MAX_SALESAMOUNT</th>\n",
       "      <th>W2_MAX_SALESAMOUNT</th>\n",
       "      <th>W3_MAX_SALESAMOUNT</th>\n",
       "      <th>W4_MAX_SALESAMOUNT</th>\n",
       "      <th>W5_MAX_SALESAMOUNT</th>\n",
       "      <th>CHURN</th>\n",
       "      <th>FIRST_VISIT_DAY</th>\n",
       "      <th>LAST_VISIT_DAY</th>\n",
       "    </tr>\n",
       "  </thead>\n",
       "  <tbody>\n",
       "    <tr>\n",
       "      <th>0</th>\n",
       "      <td>488</td>\n",
       "      <td>1.0</td>\n",
       "      <td>171.20</td>\n",
       "      <td>0.000000</td>\n",
       "      <td>0.000000</td>\n",
       "      <td>171.20</td>\n",
       "      <td>171.20</td>\n",
       "      <td>0.00</td>\n",
       "      <td>0.00</td>\n",
       "      <td>171.2</td>\n",
       "      <td>...</td>\n",
       "      <td>0.00000</td>\n",
       "      <td>0.0</td>\n",
       "      <td>0.0000</td>\n",
       "      <td>0.000000</td>\n",
       "      <td>0.00</td>\n",
       "      <td>0.00</td>\n",
       "      <td>0.0</td>\n",
       "      <td>0</td>\n",
       "      <td>16</td>\n",
       "      <td>16</td>\n",
       "    </tr>\n",
       "    <tr>\n",
       "      <th>1</th>\n",
       "      <td>5194</td>\n",
       "      <td>1.0</td>\n",
       "      <td>599.20</td>\n",
       "      <td>0.000000</td>\n",
       "      <td>0.000000</td>\n",
       "      <td>599.20</td>\n",
       "      <td>599.20</td>\n",
       "      <td>0.00</td>\n",
       "      <td>599.20</td>\n",
       "      <td>0.0</td>\n",
       "      <td>...</td>\n",
       "      <td>0.00000</td>\n",
       "      <td>0.0</td>\n",
       "      <td>0.0000</td>\n",
       "      <td>0.000000</td>\n",
       "      <td>0.00</td>\n",
       "      <td>0.00</td>\n",
       "      <td>0.0</td>\n",
       "      <td>0</td>\n",
       "      <td>10</td>\n",
       "      <td>10</td>\n",
       "    </tr>\n",
       "    <tr>\n",
       "      <th>2</th>\n",
       "      <td>5398</td>\n",
       "      <td>2.0</td>\n",
       "      <td>102.72</td>\n",
       "      <td>0.000000</td>\n",
       "      <td>0.000000</td>\n",
       "      <td>51.36</td>\n",
       "      <td>51.36</td>\n",
       "      <td>0.00</td>\n",
       "      <td>51.36</td>\n",
       "      <td>0.0</td>\n",
       "      <td>...</td>\n",
       "      <td>0.00000</td>\n",
       "      <td>0.0</td>\n",
       "      <td>0.0000</td>\n",
       "      <td>0.000000</td>\n",
       "      <td>0.00</td>\n",
       "      <td>0.00</td>\n",
       "      <td>0.0</td>\n",
       "      <td>1</td>\n",
       "      <td>26</td>\n",
       "      <td>12</td>\n",
       "    </tr>\n",
       "    <tr>\n",
       "      <th>3</th>\n",
       "      <td>6930</td>\n",
       "      <td>6.0</td>\n",
       "      <td>599.20</td>\n",
       "      <td>34.946054</td>\n",
       "      <td>1221.226667</td>\n",
       "      <td>171.20</td>\n",
       "      <td>85.60</td>\n",
       "      <td>85.60</td>\n",
       "      <td>256.80</td>\n",
       "      <td>85.6</td>\n",
       "      <td>...</td>\n",
       "      <td>0.00000</td>\n",
       "      <td>0.0</td>\n",
       "      <td>0.0000</td>\n",
       "      <td>3663.680000</td>\n",
       "      <td>0.00</td>\n",
       "      <td>0.00</td>\n",
       "      <td>0.0</td>\n",
       "      <td>1</td>\n",
       "      <td>24</td>\n",
       "      <td>4</td>\n",
       "    </tr>\n",
       "    <tr>\n",
       "      <th>4</th>\n",
       "      <td>7260</td>\n",
       "      <td>14.0</td>\n",
       "      <td>1968.80</td>\n",
       "      <td>52.950181</td>\n",
       "      <td>2803.721705</td>\n",
       "      <td>256.80</td>\n",
       "      <td>68.48</td>\n",
       "      <td>582.08</td>\n",
       "      <td>445.12</td>\n",
       "      <td>513.6</td>\n",
       "      <td>...</td>\n",
       "      <td>60.52834</td>\n",
       "      <td>0.0</td>\n",
       "      <td>2637.8496</td>\n",
       "      <td>390.792533</td>\n",
       "      <td>7327.36</td>\n",
       "      <td>3663.68</td>\n",
       "      <td>0.0</td>\n",
       "      <td>1</td>\n",
       "      <td>30</td>\n",
       "      <td>0</td>\n",
       "    </tr>\n",
       "  </tbody>\n",
       "</table>\n",
       "<p>5 rows × 40 columns</p>\n",
       "</div>"
      ],
      "text/plain": [
       "   CUSTOMER_ID  HISTORIC_VISITS  HISTORIC_SALES  STD_SALESAMOUNT  \\\n",
       "0          488              1.0          171.20         0.000000   \n",
       "1         5194              1.0          599.20         0.000000   \n",
       "2         5398              2.0          102.72         0.000000   \n",
       "3         6930              6.0          599.20        34.946054   \n",
       "4         7260             14.0         1968.80        52.950181   \n",
       "\n",
       "   VARIATION_SALESAMOUNT  MAX_SALESAMOUNT  MIN_SALESAMOUNT  \\\n",
       "0               0.000000           171.20           171.20   \n",
       "1               0.000000           599.20           599.20   \n",
       "2               0.000000            51.36            51.36   \n",
       "3            1221.226667           171.20            85.60   \n",
       "4            2803.721705           256.80            68.48   \n",
       "\n",
       "   W1_HISTORIC_VISITS  W2_HISTORIC_VISITS  W3_HISTORIC_VISITS       ...        \\\n",
       "0                0.00                0.00               171.2       ...         \n",
       "1                0.00              599.20                 0.0       ...         \n",
       "2                0.00               51.36                 0.0       ...         \n",
       "3               85.60              256.80                85.6       ...         \n",
       "4              582.08              445.12               513.6       ...         \n",
       "\n",
       "   W4_MIN_SALESAMOUNT  W5_MIN_SALESAMOUNT  W1_MAX_SALESAMOUNT  \\\n",
       "0             0.00000                 0.0              0.0000   \n",
       "1             0.00000                 0.0              0.0000   \n",
       "2             0.00000                 0.0              0.0000   \n",
       "3             0.00000                 0.0              0.0000   \n",
       "4            60.52834                 0.0           2637.8496   \n",
       "\n",
       "   W2_MAX_SALESAMOUNT  W3_MAX_SALESAMOUNT  W4_MAX_SALESAMOUNT  \\\n",
       "0            0.000000                0.00                0.00   \n",
       "1            0.000000                0.00                0.00   \n",
       "2            0.000000                0.00                0.00   \n",
       "3         3663.680000                0.00                0.00   \n",
       "4          390.792533             7327.36             3663.68   \n",
       "\n",
       "   W5_MAX_SALESAMOUNT  CHURN  FIRST_VISIT_DAY  LAST_VISIT_DAY  \n",
       "0                 0.0      0               16              16  \n",
       "1                 0.0      0               10              10  \n",
       "2                 0.0      1               26              12  \n",
       "3                 0.0      1               24               4  \n",
       "4                 0.0      1               30               0  \n",
       "\n",
       "[5 rows x 40 columns]"
      ]
     },
     "execution_count": 3,
     "metadata": {},
     "output_type": "execute_result"
    }
   ],
   "source": [
    "#copying data \n",
    "df=data.copy()\n",
    "\n",
    "#displaying first five rows\n",
    "df.head()"
   ]
  },
  {
   "cell_type": "markdown",
   "metadata": {},
   "source": [
    "### Creating Dependant and Independant Variable"
   ]
  },
  {
   "cell_type": "code",
   "execution_count": 4,
   "metadata": {},
   "outputs": [
    {
     "name": "stdout",
     "output_type": "stream",
     "text": [
      "(200000, 38) (200000,)\n"
     ]
    }
   ],
   "source": [
    "df.drop('CUSTOMER_ID', axis=1, inplace=True)\n",
    "X = df.drop('CHURN', axis=1)\n",
    "Y = df['CHURN']\n",
    "print(X.shape, Y.shape)"
   ]
  },
  {
   "cell_type": "markdown",
   "metadata": {},
   "source": [
    "### Train Test Split"
   ]
  },
  {
   "cell_type": "code",
   "execution_count": 5,
   "metadata": {},
   "outputs": [
    {
     "name": "stdout",
     "output_type": "stream",
     "text": [
      "(150000, 38) (150000,)\n",
      "(50000, 38) (50000,)\n"
     ]
    }
   ],
   "source": [
    "xtrain,xtest, ytrain, ytest= train_test_split(X, Y, test_size= 0.25, random_state = 5, shuffle=True, stratify=Y)\n",
    "print(xtrain.shape, ytrain.shape)\n",
    "print(xtest.shape, ytest.shape)"
   ]
  },
  {
   "cell_type": "code",
   "execution_count": 6,
   "metadata": {},
   "outputs": [],
   "source": [
    "def plot_roc_curve(fpr, tpr, label=None):\n",
    "    plt.figure(figsize=(8,6))\n",
    "    plt.title('ROC Curve')\n",
    "    plt.plot(fpr, tpr, linewidth=1.5, label=label)\n",
    "    plt.plot([0, 1], [0, 1], 'k--')\n",
    "    plt.axis([-0.005, 1, 0, 1.005])\n",
    "    plt.xticks(np.arange(0,1, 0.05), rotation=90)\n",
    "    plt.xlabel(\"False Positive Rate\")\n",
    "    plt.ylabel(\"True Positive Rate\")\n",
    "    plt.legend(loc='best')"
   ]
  },
  {
   "cell_type": "markdown",
   "metadata": {},
   "source": [
    "## Logistic Regression"
   ]
  },
  {
   "cell_type": "code",
   "execution_count": 7,
   "metadata": {},
   "outputs": [],
   "source": [
    "#impoe=rting Library for Logistic regression\n",
    "from sklearn.linear_model import LogisticRegression"
   ]
  },
  {
   "cell_type": "code",
   "execution_count": 8,
   "metadata": {},
   "outputs": [],
   "source": [
    "#Defining instance\n",
    "lg_rgr = LogisticRegression(random_state=5)"
   ]
  },
  {
   "cell_type": "code",
   "execution_count": 9,
   "metadata": {},
   "outputs": [
    {
     "name": "stderr",
     "output_type": "stream",
     "text": [
      "C:\\Users\\ASIFIQBAL\\AppData\\Local\\Continuum\\anaconda3\\lib\\site-packages\\sklearn\\linear_model\\logistic.py:433: FutureWarning: Default solver will be changed to 'lbfgs' in 0.22. Specify a solver to silence this warning.\n",
      "  FutureWarning)\n",
      "C:\\Users\\ASIFIQBAL\\AppData\\Local\\Continuum\\anaconda3\\lib\\site-packages\\sklearn\\svm\\base.py:931: ConvergenceWarning: Liblinear failed to converge, increase the number of iterations.\n",
      "  \"the number of iterations.\", ConvergenceWarning)\n"
     ]
    },
    {
     "data": {
      "text/plain": [
       "LogisticRegression(C=1.0, class_weight=None, dual=False, fit_intercept=True,\n",
       "          intercept_scaling=1, max_iter=100, multi_class='warn',\n",
       "          n_jobs=None, penalty='l2', random_state=5, solver='warn',\n",
       "          tol=0.0001, verbose=0, warm_start=False)"
      ]
     },
     "execution_count": 9,
     "metadata": {},
     "output_type": "execute_result"
    }
   ],
   "source": [
    "#traing the model\n",
    "lg_rgr.fit(xtrain,ytrain)"
   ]
  },
  {
   "cell_type": "code",
   "execution_count": 10,
   "metadata": {},
   "outputs": [],
   "source": [
    "lgr_pred = lg_rgr.predict(xtest)\n",
    "lgr_pproba = lg_rgr.predict_proba(xtest)[:,1]"
   ]
  },
  {
   "cell_type": "code",
   "execution_count": 11,
   "metadata": {},
   "outputs": [
    {
     "name": "stdout",
     "output_type": "stream",
     "text": [
      "Accuracy by built-in function: 0.68838\n"
     ]
    }
   ],
   "source": [
    "acc_lgr = accuracy_score(ytest, lgr_pred)\n",
    "print(\"Accuracy by built-in function: {}\".format(acc_lgr))"
   ]
  },
  {
   "cell_type": "code",
   "execution_count": 12,
   "metadata": {},
   "outputs": [
    {
     "name": "stdout",
     "output_type": "stream",
     "text": [
      "Precision by built-in function: 0.7304444189690091\n"
     ]
    }
   ],
   "source": [
    "pr_lgr = precision_score(ytest, lgr_pred)\n",
    "print(\"Precision by built-in function: {}\".format(pr_lgr))"
   ]
  },
  {
   "cell_type": "code",
   "execution_count": 13,
   "metadata": {},
   "outputs": [
    {
     "name": "stdout",
     "output_type": "stream",
     "text": [
      "Recall by built-in function: 0.6915201504956227\n"
     ]
    }
   ],
   "source": [
    "recal_lgr = recall_score(ytest, lgr_pred)\n",
    "print(\"Recall by built-in function: {}\".format(recal_lgr))"
   ]
  },
  {
   "cell_type": "code",
   "execution_count": 14,
   "metadata": {},
   "outputs": [
    {
     "name": "stdout",
     "output_type": "stream",
     "text": [
      "              precision    recall  f1-score   support\n",
      "\n",
      "           0       0.64      0.68      0.66     22358\n",
      "           1       0.73      0.69      0.71     27642\n",
      "\n",
      "   micro avg       0.69      0.69      0.69     50000\n",
      "   macro avg       0.69      0.69      0.69     50000\n",
      "weighted avg       0.69      0.69      0.69     50000\n",
      "\n"
     ]
    }
   ],
   "source": [
    "print(classification_report(ytest, lgr_pred))"
   ]
  },
  {
   "cell_type": "code",
   "execution_count": 15,
   "metadata": {},
   "outputs": [
    {
     "data": {
      "image/png": "[encoded data removed]",
      "text/plain": [
       "<Figure size 576x432 with 1 Axes>"
      ]
     },
     "metadata": {
      "needs_background": "light"
     },
     "output_type": "display_data"
    }
   ],
   "source": [
    "auc_lgr=roc_auc_score(ytest,lgr_pproba)\n",
    "fpr,tpr,threshold=roc_curve(ytest,lgr_pproba)\n",
    "plot_roc_curve(fpr,tpr,label='AUC = %0.3f'% auc_lgr)"
   ]
  },
  {
   "cell_type": "markdown",
   "metadata": {},
   "source": [
    "# KNN"
   ]
  },
  {
   "cell_type": "code",
   "execution_count": 16,
   "metadata": {},
   "outputs": [],
   "source": [
    "#importing library\n",
    "from sklearn.neighbors import KNeighborsClassifier"
   ]
  },
  {
   "cell_type": "code",
   "execution_count": 17,
   "metadata": {},
   "outputs": [],
   "source": [
    "from sklearn.preprocessing import StandardScaler"
   ]
  },
  {
   "cell_type": "code",
   "execution_count": 18,
   "metadata": {},
   "outputs": [
    {
     "name": "stderr",
     "output_type": "stream",
     "text": [
      "C:\\Users\\ASIFIQBAL\\AppData\\Local\\Continuum\\anaconda3\\lib\\site-packages\\sklearn\\preprocessing\\data.py:645: DataConversionWarning: Data with input dtype int64, float64 were all converted to float64 by StandardScaler.\n",
      "  return self.partial_fit(X, y)\n",
      "C:\\Users\\ASIFIQBAL\\AppData\\Local\\Continuum\\anaconda3\\lib\\site-packages\\ipykernel_launcher.py:3: DataConversionWarning: Data with input dtype int64, float64 were all converted to float64 by StandardScaler.\n",
      "  This is separate from the ipykernel package so we can avoid doing imports until\n",
      "C:\\Users\\ASIFIQBAL\\AppData\\Local\\Continuum\\anaconda3\\lib\\site-packages\\ipykernel_launcher.py:4: DataConversionWarning: Data with input dtype int64, float64 were all converted to float64 by StandardScaler.\n",
      "  after removing the cwd from sys.path.\n"
     ]
    }
   ],
   "source": [
    "scaler = StandardScaler()\n",
    "scaler.fit(xtrain)\n",
    "x_train_ = scaler.transform(xtrain)\n",
    "x_test_ = scaler.transform(xtest)\n",
    "x_train = pd.DataFrame(data =x_train_, columns=xtrain.columns)\n",
    "x_test = pd.DataFrame(data = x_test_, columns = xtest.columns)"
   ]
  },
  {
   "cell_type": "code",
   "execution_count": 19,
   "metadata": {},
   "outputs": [],
   "source": [
    "knn = KNeighborsClassifier(n_neighbors= 20)"
   ]
  },
  {
   "cell_type": "code",
   "execution_count": 20,
   "metadata": {},
   "outputs": [
    {
     "data": {
      "text/plain": [
       "KNeighborsClassifier(algorithm='auto', leaf_size=30, metric='minkowski',\n",
       "           metric_params=None, n_jobs=None, n_neighbors=20, p=2,\n",
       "           weights='uniform')"
      ]
     },
     "execution_count": 20,
     "metadata": {},
     "output_type": "execute_result"
    }
   ],
   "source": [
    "knn.fit(xtrain, ytrain)"
   ]
  },
  {
   "cell_type": "code",
   "execution_count": 21,
   "metadata": {},
   "outputs": [],
   "source": [
    "knn_pred = knn.predict(xtest)\n",
    "knn_pproba = knn.predict_proba(xtest)[:,1]"
   ]
  },
  {
   "cell_type": "code",
   "execution_count": 22,
   "metadata": {},
   "outputs": [
    {
     "name": "stdout",
     "output_type": "stream",
     "text": [
      "Accuracy by Built-in fuction :0.72652\n"
     ]
    }
   ],
   "source": [
    "acc_knn = accuracy_score(ytest, knn_pred)\n",
    "print('Accuracy by Built-in fuction :{}'.format(acc_knn))"
   ]
  },
  {
   "cell_type": "code",
   "execution_count": 23,
   "metadata": {},
   "outputs": [
    {
     "name": "stdout",
     "output_type": "stream",
     "text": [
      "Precision by Built-in fuction :0.7728338151418079\n"
     ]
    }
   ],
   "source": [
    "pr_knn = precision_score(ytest, knn_pred)\n",
    "print('Precision by Built-in fuction :{}'.format(pr_knn))"
   ]
  },
  {
   "cell_type": "code",
   "execution_count": 24,
   "metadata": {},
   "outputs": [
    {
     "name": "stdout",
     "output_type": "stream",
     "text": [
      "Recall by Built-in fuction :0.7156862745098039\n"
     ]
    }
   ],
   "source": [
    "recal_knn = recall_score(ytest, knn_pred)\n",
    "print('Recall by Built-in fuction :{}'.format(recal_knn))"
   ]
  },
  {
   "cell_type": "code",
   "execution_count": 25,
   "metadata": {},
   "outputs": [
    {
     "name": "stdout",
     "output_type": "stream",
     "text": [
      "              precision    recall  f1-score   support\n",
      "\n",
      "           0       0.68      0.74      0.71     22358\n",
      "           1       0.77      0.72      0.74     27642\n",
      "\n",
      "   micro avg       0.73      0.73      0.73     50000\n",
      "   macro avg       0.73      0.73      0.73     50000\n",
      "weighted avg       0.73      0.73      0.73     50000\n",
      "\n"
     ]
    }
   ],
   "source": [
    "print(classification_report(ytest,knn_pred))"
   ]
  },
  {
   "cell_type": "code",
   "execution_count": 26,
   "metadata": {
    "scrolled": false
   },
   "outputs": [
    {
     "data": {
      "image/png": "[encoded data removed]",
      "text/plain": [
       "<Figure size 576x432 with 1 Axes>"
      ]
     },
     "metadata": {
      "needs_background": "light"
     },
     "output_type": "display_data"
    }
   ],
   "source": [
    "auc_knn=roc_auc_score(ytest,knn_pproba)\n",
    "fpr,tpr,threshold=roc_curve(ytest,knn_pproba)\n",
    "plot_roc_curve(fpr,tpr,label='AUC = %0.3f'% auc_knn)"
   ]
  },
  {
   "cell_type": "markdown",
   "metadata": {},
   "source": [
    "# Decision Tree"
   ]
  },
  {
   "cell_type": "code",
   "execution_count": 27,
   "metadata": {},
   "outputs": [],
   "source": [
    "from sklearn.tree import DecisionTreeClassifier"
   ]
  },
  {
   "cell_type": "code",
   "execution_count": 28,
   "metadata": {},
   "outputs": [],
   "source": [
    "dt_clf = DecisionTreeClassifier(max_depth=10,criterion='gini',random_state=5)"
   ]
  },
  {
   "cell_type": "code",
   "execution_count": 29,
   "metadata": {},
   "outputs": [
    {
     "data": {
      "text/plain": [
       "DecisionTreeClassifier(class_weight=None, criterion='gini', max_depth=10,\n",
       "            max_features=None, max_leaf_nodes=None,\n",
       "            min_impurity_decrease=0.0, min_impurity_split=None,\n",
       "            min_samples_leaf=1, min_samples_split=2,\n",
       "            min_weight_fraction_leaf=0.0, presort=False, random_state=5,\n",
       "            splitter='best')"
      ]
     },
     "execution_count": 29,
     "metadata": {},
     "output_type": "execute_result"
    }
   ],
   "source": [
    "dt_clf.fit(xtrain, ytrain)"
   ]
  },
  {
   "cell_type": "code",
   "execution_count": 30,
   "metadata": {},
   "outputs": [],
   "source": [
    "dt_pred = dt_clf.predict(xtest)\n",
    "dt_pproba = dt_clf.predict_proba(xtest)[:,1]"
   ]
  },
  {
   "cell_type": "code",
   "execution_count": 31,
   "metadata": {},
   "outputs": [
    {
     "name": "stdout",
     "output_type": "stream",
     "text": [
      "Accuracy by Built-in fuction :0.73976\n"
     ]
    }
   ],
   "source": [
    "acc_dt = accuracy_score(ytest, dt_pred)\n",
    "print('Accuracy by Built-in fuction :{}'.format(acc_dt))"
   ]
  },
  {
   "cell_type": "code",
   "execution_count": 32,
   "metadata": {},
   "outputs": [
    {
     "name": "stdout",
     "output_type": "stream",
     "text": [
      "Precision by Built-in fuction :0.7878561309617503\n"
     ]
    }
   ],
   "source": [
    "pr_dt =precision_score(ytest, dt_pred)\n",
    "print('Precision by Built-in fuction :{}'.format(pr_dt))"
   ]
  },
  {
   "cell_type": "code",
   "execution_count": 33,
   "metadata": {},
   "outputs": [
    {
     "name": "stdout",
     "output_type": "stream",
     "text": [
      "Recall by Built-in fuction :0.7242963606106649\n"
     ]
    }
   ],
   "source": [
    "recall_dt = recall_score(ytest, dt_pred)\n",
    "print('Recall by Built-in fuction :{}'.format(recall_dt))"
   ]
  },
  {
   "cell_type": "code",
   "execution_count": 34,
   "metadata": {},
   "outputs": [
    {
     "name": "stdout",
     "output_type": "stream",
     "text": [
      "              precision    recall  f1-score   support\n",
      "\n",
      "           0       0.69      0.76      0.72     22358\n",
      "           1       0.79      0.72      0.75     27642\n",
      "\n",
      "   micro avg       0.74      0.74      0.74     50000\n",
      "   macro avg       0.74      0.74      0.74     50000\n",
      "weighted avg       0.74      0.74      0.74     50000\n",
      "\n"
     ]
    }
   ],
   "source": [
    "print(classification_report(ytest, dt_pred))"
   ]
  },
  {
   "cell_type": "code",
   "execution_count": 35,
   "metadata": {},
   "outputs": [
    {
     "data": {
      "image/png": "[encoded data removed]",
      "text/plain": [
       "<Figure size 576x432 with 1 Axes>"
      ]
     },
     "metadata": {
      "needs_background": "light"
     },
     "output_type": "display_data"
    }
   ],
   "source": [
    "auc_dt=roc_auc_score(ytest,dt_pproba)\n",
    "fpr,tpr,threshold=roc_curve(ytest,dt_pproba)\n",
    "plot_roc_curve(fpr,tpr,label='AUC = %0.3f'% auc_dt)"
   ]
  },
  {
   "cell_type": "markdown",
   "metadata": {},
   "source": [
    "# Random Forrest"
   ]
  },
  {
   "cell_type": "code",
   "execution_count": 36,
   "metadata": {},
   "outputs": [],
   "source": [
    "from sklearn.ensemble import RandomForestClassifier"
   ]
  },
  {
   "cell_type": "code",
   "execution_count": 37,
   "metadata": {},
   "outputs": [],
   "source": [
    "rf_clf = RandomForestClassifier(max_depth=10,random_state=5, criterion='gini')"
   ]
  },
  {
   "cell_type": "code",
   "execution_count": 38,
   "metadata": {},
   "outputs": [
    {
     "name": "stderr",
     "output_type": "stream",
     "text": [
      "C:\\Users\\ASIFIQBAL\\AppData\\Local\\Continuum\\anaconda3\\lib\\site-packages\\sklearn\\ensemble\\forest.py:246: FutureWarning: The default value of n_estimators will change from 10 in version 0.20 to 100 in 0.22.\n",
      "  \"10 in version 0.20 to 100 in 0.22.\", FutureWarning)\n"
     ]
    },
    {
     "data": {
      "text/plain": [
       "RandomForestClassifier(bootstrap=True, class_weight=None, criterion='gini',\n",
       "            max_depth=10, max_features='auto', max_leaf_nodes=None,\n",
       "            min_impurity_decrease=0.0, min_impurity_split=None,\n",
       "            min_samples_leaf=1, min_samples_split=2,\n",
       "            min_weight_fraction_leaf=0.0, n_estimators=10, n_jobs=None,\n",
       "            oob_score=False, random_state=5, verbose=0, warm_start=False)"
      ]
     },
     "execution_count": 38,
     "metadata": {},
     "output_type": "execute_result"
    }
   ],
   "source": [
    "rf_clf.fit(xtrain, ytrain)"
   ]
  },
  {
   "cell_type": "code",
   "execution_count": 39,
   "metadata": {},
   "outputs": [],
   "source": [
    "rf_pred = rf_clf.predict(xtest)\n",
    "rf_pproba = rf_clf.predict_proba(xtest)[:,1]"
   ]
  },
  {
   "cell_type": "code",
   "execution_count": 40,
   "metadata": {},
   "outputs": [
    {
     "name": "stdout",
     "output_type": "stream",
     "text": [
      "Accuracy by Built-in Fuction :0.74308\n"
     ]
    }
   ],
   "source": [
    "acc_rf = accuracy_score(ytest, rf_pred)\n",
    "print('Accuracy by Built-in Fuction :{}'.format(acc_rf))"
   ]
  },
  {
   "cell_type": "code",
   "execution_count": 41,
   "metadata": {},
   "outputs": [
    {
     "name": "stdout",
     "output_type": "stream",
     "text": [
      "Precision by Built-in Fuction :0.7882861819032032\n"
     ]
    }
   ],
   "source": [
    "pr_rf = precision_score(ytest, rf_pred)\n",
    "print('Precision by Built-in Fuction :{}'.format(pr_rf))"
   ]
  },
  {
   "cell_type": "code",
   "execution_count": 42,
   "metadata": {},
   "outputs": [
    {
     "name": "stdout",
     "output_type": "stream",
     "text": [
      "Recall by Built-in Fuction :0.7318211417408291\n"
     ]
    }
   ],
   "source": [
    "recal_rf =recall_score(ytest, rf_pred)\n",
    "print('Recall by Built-in Fuction :{}'.format(recal_rf))"
   ]
  },
  {
   "cell_type": "code",
   "execution_count": 43,
   "metadata": {},
   "outputs": [
    {
     "name": "stdout",
     "output_type": "stream",
     "text": [
      "              precision    recall  f1-score   support\n",
      "\n",
      "           0       0.70      0.76      0.72     22358\n",
      "           1       0.79      0.73      0.76     27642\n",
      "\n",
      "   micro avg       0.74      0.74      0.74     50000\n",
      "   macro avg       0.74      0.74      0.74     50000\n",
      "weighted avg       0.75      0.74      0.74     50000\n",
      "\n"
     ]
    }
   ],
   "source": [
    "print(classification_report(ytest, rf_pred))"
   ]
  },
  {
   "cell_type": "code",
   "execution_count": 44,
   "metadata": {},
   "outputs": [
    {
     "data": {
      "image/png": "[encoded data removed]",
      "text/plain": [
       "<Figure size 576x432 with 1 Axes>"
      ]
     },
     "metadata": {
      "needs_background": "light"
     },
     "output_type": "display_data"
    }
   ],
   "source": [
    "auc_rf=roc_auc_score(ytest,rf_pproba)\n",
    "fpr,tpr,threshold=roc_curve(ytest,rf_pproba)\n",
    "plot_roc_curve(fpr,tpr,label='AUC = %0.3f'% auc_rf)"
   ]
  },
  {
   "cell_type": "markdown",
   "metadata": {},
   "source": [
    "# XG Boost"
   ]
  },
  {
   "cell_type": "code",
   "execution_count": 45,
   "metadata": {},
   "outputs": [],
   "source": [
    "import xgboost as xgb"
   ]
  },
  {
   "cell_type": "code",
   "execution_count": 46,
   "metadata": {},
   "outputs": [],
   "source": [
    "xgb_clf = xgb.XGBClassifier(seed=5,nthread=1,random_state=5)"
   ]
  },
  {
   "cell_type": "code",
   "execution_count": 47,
   "metadata": {},
   "outputs": [
    {
     "data": {
      "text/plain": [
       "XGBClassifier(base_score=0.5, booster='gbtree', colsample_bylevel=1,\n",
       "       colsample_bytree=1, gamma=0, learning_rate=0.1, max_delta_step=0,\n",
       "       max_depth=3, min_child_weight=1, missing=None, n_estimators=100,\n",
       "       n_jobs=1, nthread=1, objective='binary:logistic', random_state=5,\n",
       "       reg_alpha=0, reg_lambda=1, scale_pos_weight=1, seed=5, silent=True,\n",
       "       subsample=1)"
      ]
     },
     "execution_count": 47,
     "metadata": {},
     "output_type": "execute_result"
    }
   ],
   "source": [
    "xgb_clf.fit(xtrain, ytrain)"
   ]
  },
  {
   "cell_type": "code",
   "execution_count": 48,
   "metadata": {},
   "outputs": [],
   "source": [
    "xgb_pred = xgb_clf.predict(xtest)\n",
    "xgb_pproba = xgb_clf.predict_proba(xtest)[:,1]"
   ]
  },
  {
   "cell_type": "code",
   "execution_count": 49,
   "metadata": {},
   "outputs": [
    {
     "name": "stdout",
     "output_type": "stream",
     "text": [
      "Accuracy by built in Function :0.7438\n"
     ]
    }
   ],
   "source": [
    "acc_xgb = accuracy_score(ytest, xgb_pred)\n",
    "print('Accuracy by built in Function :{}' .format(acc_xgb))"
   ]
  },
  {
   "cell_type": "code",
   "execution_count": 50,
   "metadata": {},
   "outputs": [
    {
     "name": "stdout",
     "output_type": "stream",
     "text": [
      "Precision by built in Function :0.7945428548733021\n"
     ]
    }
   ],
   "source": [
    "pr_xgb = precision_score(ytest, xgb_pred)\n",
    "print('Precision by built in Function :{}' .format(pr_xgb))"
   ]
  },
  {
   "cell_type": "code",
   "execution_count": 51,
   "metadata": {},
   "outputs": [
    {
     "name": "stdout",
     "output_type": "stream",
     "text": [
      "Recall by built in Function :0.72371753129296\n"
     ]
    }
   ],
   "source": [
    "recal_xgb = recall_score(ytest, xgb_pred)\n",
    "print('Recall by built in Function :{}' .format(recal_xgb))"
   ]
  },
  {
   "cell_type": "code",
   "execution_count": 52,
   "metadata": {},
   "outputs": [
    {
     "name": "stdout",
     "output_type": "stream",
     "text": [
      "              precision    recall  f1-score   support\n",
      "\n",
      "           0       0.69      0.77      0.73     22358\n",
      "           1       0.79      0.72      0.76     27642\n",
      "\n",
      "   micro avg       0.74      0.74      0.74     50000\n",
      "   macro avg       0.74      0.75      0.74     50000\n",
      "weighted avg       0.75      0.74      0.74     50000\n",
      "\n"
     ]
    }
   ],
   "source": [
    "print(classification_report(ytest, xgb_pred))"
   ]
  },
  {
   "cell_type": "code",
   "execution_count": 53,
   "metadata": {},
   "outputs": [
    {
     "data": {
      "image/png": "[encoded data removed]",
      "text/plain": [
       "<Figure size 576x432 with 1 Axes>"
      ]
     },
     "metadata": {
      "needs_background": "light"
     },
     "output_type": "display_data"
    }
   ],
   "source": [
    "auc_xgb=roc_auc_score(ytest,xgb_pproba)\n",
    "fpr,tpr,threshold=roc_curve(ytest,xgb_pproba)\n",
    "plot_roc_curve(fpr,tpr,label='AUC = %0.3f'% auc_xgb)"
   ]
  },
  {
   "cell_type": "markdown",
   "metadata": {},
   "source": [
    "### Model Comparison"
   ]
  },
  {
   "cell_type": "code",
   "execution_count": 54,
   "metadata": {},
   "outputs": [],
   "source": [
    "comp_dx= {'Algorithms':['Logistics Regression', 'KNeigbours Classifier','Decision Tree Classifier', 'Random Forrest Classifier', 'XGBoost Classifier'],\n",
    "         'Accuracy':[acc_lgr,acc_knn, acc_dt,acc_rf, acc_xgb],'Precision':[pr_lgr,pr_knn,pr_dt,pr_rf,pr_xgb],\n",
    "         'Recall':[recal_lgr,recal_knn,recall_dt,recal_rf,recal_xgb]}"
   ]
  },
  {
   "cell_type": "code",
   "execution_count": 55,
   "metadata": {},
   "outputs": [
    {
     "data": {
      "text/html": [
       "<div>\n",
       "<style scoped>\n",
       "    .dataframe tbody tr th:only-of-type {\n",
       "        vertical-align: middle;\n",
       "    }\n",
       "\n",
       "    .dataframe tbody tr th {\n",
       "        vertical-align: top;\n",
       "    }\n",
       "\n",
       "    .dataframe thead th {\n",
       "        text-align: right;\n",
       "    }\n",
       "</style>\n",
       "<table border=\"1\" class=\"dataframe\">\n",
       "  <thead>\n",
       "    <tr style=\"text-align: right;\">\n",
       "      <th></th>\n",
       "      <th>Algorithms</th>\n",
       "      <th>Accuracy</th>\n",
       "      <th>Precision</th>\n",
       "      <th>Recall</th>\n",
       "    </tr>\n",
       "  </thead>\n",
       "  <tbody>\n",
       "    <tr>\n",
       "      <th>0</th>\n",
       "      <td>Logistics Regression</td>\n",
       "      <td>0.68838</td>\n",
       "      <td>0.730444</td>\n",
       "      <td>0.691520</td>\n",
       "    </tr>\n",
       "    <tr>\n",
       "      <th>1</th>\n",
       "      <td>KNeigbours Classifier</td>\n",
       "      <td>0.72652</td>\n",
       "      <td>0.772834</td>\n",
       "      <td>0.715686</td>\n",
       "    </tr>\n",
       "    <tr>\n",
       "      <th>2</th>\n",
       "      <td>Decision Tree Classifier</td>\n",
       "      <td>0.73976</td>\n",
       "      <td>0.787856</td>\n",
       "      <td>0.724296</td>\n",
       "    </tr>\n",
       "    <tr>\n",
       "      <th>3</th>\n",
       "      <td>Random Forrest Classifier</td>\n",
       "      <td>0.74308</td>\n",
       "      <td>0.788286</td>\n",
       "      <td>0.731821</td>\n",
       "    </tr>\n",
       "    <tr>\n",
       "      <th>4</th>\n",
       "      <td>XGBoost Classifier</td>\n",
       "      <td>0.74380</td>\n",
       "      <td>0.794543</td>\n",
       "      <td>0.723718</td>\n",
       "    </tr>\n",
       "  </tbody>\n",
       "</table>\n",
       "</div>"
      ],
      "text/plain": [
       "                  Algorithms  Accuracy  Precision    Recall\n",
       "0       Logistics Regression   0.68838   0.730444  0.691520\n",
       "1      KNeigbours Classifier   0.72652   0.772834  0.715686\n",
       "2   Decision Tree Classifier   0.73976   0.787856  0.724296\n",
       "3  Random Forrest Classifier   0.74308   0.788286  0.731821\n",
       "4         XGBoost Classifier   0.74380   0.794543  0.723718"
      ]
     },
     "execution_count": 55,
     "metadata": {},
     "output_type": "execute_result"
    }
   ],
   "source": [
    "model_comp = pd.DataFrame(comp_dx)\n",
    "model_comp"
   ]
  },
  {
   "cell_type": "markdown",
   "metadata": {},
   "source": [
    "## Tunning Random Forrest"
   ]
  },
  {
   "cell_type": "code",
   "execution_count": null,
   "metadata": {},
   "outputs": [],
   "source": [
    "#importing randomized search cv\n",
    "from sklearn.model_selection import GridSearchCV"
   ]
  },
  {
   "cell_type": "code",
   "execution_count": null,
   "metadata": {},
   "outputs": [],
   "source": [
    "param_grid1 = {\"n_estimators\" : [9, 18, 27, 36, 45, 54, 63],\n",
    "           \"max_depth\" : [1, 5, 10, 15, 20, 25, 30],\n",
    "           \"min_samples_leaf\" : [1, 2, 4, 6, 8, 10]}\n",
    "\n",
    "RF = RandomForestClassifier(random_state=25)\n",
    "# Instantiate the GridSearchCV object: logreg_cv\n",
    "RF_cv1 = GridSearchCV(RF, param_grid1, cv=3,scoring='recall',n_jobs=4)\n",
    "\n",
    "# Fit it to the data\n",
    "RF_cv1.fit(xtrain,ytrain)\n",
    "\n",
    "#RF_cv1.cv_results_, \n",
    "RF_cv1.best_params_, RF_cv1.best_score_"
   ]
  },
  {
   "cell_type": "code",
   "execution_count": null,
   "metadata": {},
   "outputs": [],
   "source": [
    "param_grid2 = {\"n_estimators\" : [36,39,42,45,48,51,54],\n",
    "           \"max_depth\" : [15,16,17,18,19,20,21,22,23,24,25],\n",
    "           \"min_samples_leaf\" : [1,2,3,4]}\n",
    "\n",
    "RF = RandomForestClassifier(random_state=25)\n",
    "# Instantiate the GridSearchCV object: logreg_cv\n",
    "RF_cv2 = GridSearchCV(RF, param_grid2, cv=3,scoring='recall',n_jobs=4)\n",
    "\n",
    "# Fit it to the data\n",
    "RF_cv2.fit(xtrain,ytrain)\n",
    "\n",
    "#RF_cv2.grid_scores_, \n",
    "RF_cv2.best_params_, RF_cv2.best_score_"
   ]
  },
  {
   "cell_type": "code",
   "execution_count": null,
   "metadata": {},
   "outputs": [],
   "source": [
    "RF_tuned = RF_cv2.best_estimator_"
   ]
  },
  {
   "cell_type": "code",
   "execution_count": null,
   "metadata": {},
   "outputs": [],
   "source": [
    "RF_tuned.fit(xtrain, ytrain)"
   ]
  },
  {
   "cell_type": "code",
   "execution_count": null,
   "metadata": {},
   "outputs": [],
   "source": [
    "rf_pred_t = RF_tuned.predict(xtest)\n",
    "rf_pred_prb_t=RF_tuned.predict_proba(xtest)[:,1]"
   ]
  },
  {
   "cell_type": "code",
   "execution_count": null,
   "metadata": {},
   "outputs": [],
   "source": [
    "accuracy_rf_t = accuracy_score(ytest,rf_pred_t)\n",
    "print(\"Accuracy after tuning: {}\".format(accuracy_rf_t))"
   ]
  },
  {
   "cell_type": "code",
   "execution_count": null,
   "metadata": {},
   "outputs": [],
   "source": [
    "recall_rf_t=recall_score(ytest,rf_pred_t)\n",
    "recall_rf_t"
   ]
  },
  {
   "cell_type": "code",
   "execution_count": null,
   "metadata": {},
   "outputs": [],
   "source": [
    "print(classification_report(ytest,rf_pred_t))"
   ]
  },
  {
   "cell_type": "code",
   "execution_count": null,
   "metadata": {},
   "outputs": [],
   "source": [
    "auc_rf_t=roc_auc_score(ytest,rf_pred_prb_t)\n",
    "fpr,tpr,threshold=roc_curve(ytest,rf_pred_prb_t)\n",
    "plot_roc_curve(fpr,tpr,label='AUC Tuned = %0.3f'% auc_rf_t)"
   ]
  },
  {
   "cell_type": "code",
   "execution_count": null,
   "metadata": {},
   "outputs": [],
   "source": [
    "RF_dict = {\"Algorithm\":[\"Random Forest\",\"Random Forest\"],\"Action\":[\"First Run\",\"Tuned\"],\n",
    "           \"Accuracy\":[acc_rf,accuracy_rf_t],\"AUC\":[auc_rf,auc_rf_t], \"Recall\":[recal_rf,recall_rf_t]}"
   ]
  },
  {
   "cell_type": "code",
   "execution_count": null,
   "metadata": {},
   "outputs": [],
   "source": [
    "comparison=pd.DataFrame(RF_dict)\n",
    "comparison"
   ]
  },
  {
   "cell_type": "code",
   "execution_count": null,
   "metadata": {},
   "outputs": [],
   "source": [
    "print(\"Difference in Accuracy is: %0.3f\"%((comparison.loc[1,'Accuracy']-comparison.loc[0,'Accuracy'])*100))\n",
    "print(\"Difference in AUC is: %0.3f\"%((comparison.loc[1,'AUC']-comparison.loc[0,'AUC'])*100))\n",
    "print(\"Difference in Recall is: %0.3f\"%((comparison.loc[1,'Recall']-comparison.loc[0,'Recall'])*100))"
   ]
  },
  {
   "cell_type": "code",
   "execution_count": null,
   "metadata": {},
   "outputs": [],
   "source": []
  }
 ],
 "metadata": {
  "kernelspec": {
   "display_name": "Python 3",
   "language": "python",
   "name": "python3"
  },
  "language_info": {
   "codemirror_mode": {
    "name": "ipython",
    "version": 3
   },
   "file_extension": ".py",
   "mimetype": "text/x-python",
   "name": "python",
   "nbconvert_exporter": "python",
   "pygments_lexer": "ipython3",
   "version": "3.7.0"
  }
 },
 "nbformat": 4,
 "nbformat_minor": 2
}
